{
 "cells": [
  {
   "cell_type": "code",
   "execution_count": 1,
   "metadata": {},
   "outputs": [
    {
     "name": "stderr",
     "output_type": "stream",
     "text": [
      "/home/aoqiao/developer_dq/superresolution_oe/.venv/lib/python3.10/site-packages/tqdm/auto.py:21: TqdmWarning: IProgress not found. Please update jupyter and ipywidgets. See https://ipywidgets.readthedocs.io/en/stable/user_install.html\n",
      "  from .autonotebook import tqdm as notebook_tqdm\n"
     ]
    }
   ],
   "source": [
    "from sentinelhub import SHConfig, BBox, CRS, SentinelHubRequest, DataCollection, MimeType, bbox_to_dimensions, SentinelHubCatalog\n",
    "from geopy.distance import distance\n",
    "from shapely import geometry\n",
    "\n"
   ]
  },
  {
   "cell_type": "code",
   "execution_count": 2,
   "metadata": {},
   "outputs": [],
   "source": [
    "CLIENT_ID = '4233abe2-b007-4a70-9778-0087219bdcbe'\n",
    "CLIENT_SECRET = '01jdg5RZ8blbe3dfLfkxVuTV4xUOK74E'\n",
    "\n",
    "config = SHConfig()\n",
    "\n",
    "if CLIENT_ID and CLIENT_SECRET:\n",
    "    config.sh_client_id = CLIENT_ID\n",
    "    config.sh_client_secret = CLIENT_SECRET"
   ]
  },
  {
   "cell_type": "code",
   "execution_count": 21,
   "metadata": {},
   "outputs": [],
   "source": [
    "import mercantile\n",
    "import math\n",
    "\n",
    "def point_to_bbox(point, image_buffer = 0.1):\n",
    "    \n",
    "    tpi_buffer_north = distance(kilometers=image_buffer).destination((point[1], point[0]), bearing=0)\n",
    "    tpi_buffer_east = distance(kilometers=image_buffer).destination((point[1], point[0]), bearing=90)\n",
    "    vertical_buffer = tpi_buffer_north[0] - point[1]\n",
    "    horizontal_buffer = tpi_buffer_east[1] - point[0]\n",
    "    lat_min = point[1] - vertical_buffer\n",
    "    lon_min = point[0] - horizontal_buffer\n",
    "    lat_max = point[1] + vertical_buffer\n",
    "    lon_max = point[0] + horizontal_buffer\n",
    "\n",
    "    ROI = geometry.Polygon([[lon_min, lat_min], [lon_min, lat_max],\n",
    "                            [lon_max, lat_max], [lon_max, lat_min],\n",
    "                            [lon_min, lat_min]])\n",
    "\n",
    "    return ROI\n",
    "\n",
    "\n",
    "\n",
    "def deg2num(lat_deg, lon_deg, zoom):\n",
    "    lat_rad = math.radians(lat_deg)\n",
    "    n = 2.0 ** zoom\n",
    "    xtile = int((lon_deg + 180.0) / 360.0 * n)\n",
    "    ytile = int((1.0 - math.asinh(math.tan(lat_rad)) / math.pi) / 2.0 * n)\n",
    "    return xtile, ytile\n",
    "\n",
    "\n",
    "def tile_bbox(point, zoom_level=18):\n",
    "    x, y = deg2num(point[1], point[0], zoom_level)\n",
    "    return geometry.Polygon.from_bounds(*mercantile.bounds(x, y, zoom_level))\n",
    "\n",
    "def tile_box_num(x, y, zoom_level=18):\n",
    "    return geometry.Polygon.from_bounds(*mercantile.bounds(x, y, zoom_level))\n",
    "\n"
   ]
  },
  {
   "cell_type": "code",
   "execution_count": 22,
   "metadata": {},
   "outputs": [],
   "source": [
    "def get_s2_l2a(s2_bbox, s2_date, config):\n",
    "    \"\"\" author: Alessandro \"\"\"\n",
    "    evalscript_l2a = \"\"\"//VERSION=3\n",
    "        function setup() {\n",
    "            return {\n",
    "                input: [{\n",
    "                    bands: [\"B02\",\"B03\",\"B04\"],\n",
    "                }],\n",
    "                output: {\n",
    "                    bands: 3,\n",
    "                }\n",
    "            };\n",
    "        }\n",
    "\n",
    "        function evaluatePixel(sample) {\n",
    "            return [sample.B04,\n",
    "                    sample.B03,\n",
    "                    sample.B02];\n",
    "        }\n",
    "    \"\"\"\n",
    "\n",
    "    request2 = SentinelHubRequest(\n",
    "        evalscript=evalscript_l2a,\n",
    "        input_data=[\n",
    "            SentinelHubRequest.input_data(\n",
    "                data_collection=DataCollection.SENTINEL2_L1C,\n",
    "                time_interval=s2_date,\n",
    "                #time_interval=(\"2020-06-01\", \"2020-06-30\"),\n",
    "                #other_args={\"processing\": {\"harmonizeValues\": True}}\n",
    "            )\n",
    "        ],\n",
    "        responses=[\n",
    "            SentinelHubRequest.output_response('default', MimeType.TIFF),\n",
    "            #SentinelHubRequest.output_response(\"userdata\", MimeType.JSON),\n",
    "        ],\n",
    "        bbox=s2_bbox,\n",
    "        size=bbox_to_dimensions(s2_bbox, 10),\n",
    "        config=config\n",
    "    )\n",
    "\n",
    "    return request2.get_data()[0]"
   ]
  },
  {
   "cell_type": "code",
   "execution_count": 54,
   "metadata": {},
   "outputs": [],
   "source": [
    "point = [6.0071,50.7566]\n",
    "# region = point_to_bbox(point)\n",
    "region = tile_bbox(point,16)\n"
   ]
  },
  {
   "cell_type": "code",
   "execution_count": 55,
   "metadata": {},
   "outputs": [],
   "source": [
    "# import shapely\n",
    "# from shapely.geometry import Polygon\n",
    "# from shapely.wkt import loads\n",
    "\n",
    "# lon1, lat1 = 51.987462657438286, 4.35819166159902\n",
    "# lon2, lat2 = 51.9874545892943, 4.362820023296583\n",
    "# lon3, lat3 = 51.98460325811651, 4.36293542417561\n",
    "# lon4, lat4 = 51.98464238053462, 4.358281013465325\n",
    "\n",
    "# region  = loads(f'POLYGON (({lat1} {lon1}, {lat2} {lon2}, {lat3} {lon3}, {lat4} {lon4}, {lat1} {lon1}))')"
   ]
  },
  {
   "cell_type": "code",
   "execution_count": 56,
   "metadata": {},
   "outputs": [],
   "source": [
    "# lon1, lat1 = 51.98668913722213, 4.368918696311848\n",
    "# lon2, lat2 = 51.98673921737371, 4.373415755079482\n",
    "# lon3, lat3 = 51.98395978748917, 4.37360208022955\n",
    "# lon4, lat4 = 51.9838766175289, 4.368926839285362\n",
    "\n",
    "\n",
    "# lon1, lat1 = 51.987462657438286, 4.35819166159902\n",
    "# lon2, lat2 = 51.9874545892943, 4.362820023296583\n",
    "# lon3, lat3 = 51.98460325811651, 4.36293542417561\n",
    "# lon4, lat4 = 51.98464238053462, 4.358281013465325\n",
    "\n",
    "\n",
    "\n",
    "# lon1, lat1 = 51.97427115343063, 4.351412659102918\n",
    "# lon2, lat2 = 51.97430250325806, 4.356052393750182\n",
    "# lon3, lat3 = 51.97140579486582, 4.35611526011182\n",
    "# lon4, lat4 = 51.97137622787061, 4.35142105062258\n",
    "\n",
    "# lon1, lat1 = 52.0209594903395, 4.381118285142651\n",
    "# lon2, lat2 = 52.02104610535591, 4.385984955088066\n",
    "# lon3, lat3 = 52.01818760530734, 4.3861898799089944\n",
    "# lon4, lat4 = 52.018098541968186, 4.381334206277878\n",
    "\n",
    "\n",
    "\n",
    "# lon1, lat1 = 52.015774, 4.375342\n",
    "# lon2, lat2 = 52.01605122608524, 4.383102473453196\n",
    "# lon3, lat3 = 52.012723, 4.383517\n",
    "# lon4, lat4 = 52.012619, 4.376376"
   ]
  },
  {
   "cell_type": "code",
   "execution_count": 57,
   "metadata": {},
   "outputs": [],
   "source": [
    "date_list = ['2023-04-05', '2023-04-10', '2023-04-15', '2023-04-20', '2023-04-25', '2023-04-30', '2023-05-04', '2023-06-04']\n",
    "date_list = ['2023-06-06']"
   ]
  },
  {
   "cell_type": "code",
   "execution_count": 59,
   "metadata": {},
   "outputs": [
    {
     "data": {
      "image/png": "[encoded data removed]",
      "text/plain": [
       "<Figure size 1000x1000 with 1 Axes>"
      ]
     },
     "metadata": {},
     "output_type": "display_data"
    }
   ],
   "source": [
    "import matplotlib.pyplot as plt\n",
    "import numpy as np\n",
    "from PIL import Image\n",
    "\n",
    "# fig, ax = plt.subplots(1, 1, figsize=(10, 10))\n",
    "\n",
    "# # plot irt with factor = 3.5/255\n",
    "# ax.imshow(s2_l2a_mst*3.5/255)\n",
    "\n",
    "\n",
    "\n",
    "# region = {\n",
    "\n",
    "for i in range(len(date_list)):\n",
    "\n",
    "    s2_reference_date = date_list[i]\n",
    "    bbox = BBox(region.bounds, crs=CRS.WGS84)\n",
    "    s2_l2a_mst = get_s2_l2a(bbox, s2_reference_date, config)\n",
    "\n",
    "    # plt.show()\n",
    "\n",
    "\n",
    "    fig, ax = plt.subplots(1, 1, figsize=(10, 10))\n",
    "\n",
    "    # plot irt with factor = 3.5/255\n",
    "    ax.imshow(s2_l2a_mst)\n",
    "\n",
    "\n",
    "\n",
    "\n",
    "    plt.show()\n",
    "\n",
    "\n",
    "    # take the center 32x32 pixels\n",
    "    size_x = s2_l2a_mst.shape[0]\n",
    "    size_y = s2_l2a_mst.shape[1]\n",
    "        \n",
    "    image = s2_l2a_mst[int(size_x/2)-16:int(size_x/2)+16, int(size_y/2)-16:int(size_y/2)+16, :]\n",
    "    #\n",
    "    if i == 0:\n",
    "        images = image\n",
    "    else:\n",
    "        images = np.concatenate((images, image), axis=0)\n",
    "\n",
    "im_ts = Image.fromarray(images)\n",
    "im_ts.save('download_example.png')\n"
   ]
  },
  {
   "cell_type": "code",
   "execution_count": 13,
   "metadata": {},
   "outputs": [
    {
     "ename": "NameError",
     "evalue": "name 'image1' is not defined",
     "output_type": "error",
     "traceback": [
      "\u001b[0;31m---------------------------------------------------------------------------\u001b[0m",
      "\u001b[0;31mNameError\u001b[0m                                 Traceback (most recent call last)",
      "Cell \u001b[0;32mIn[13], line 3\u001b[0m\n\u001b[1;32m      1\u001b[0m \u001b[38;5;66;03m# from image1 to image8, add them on top of each other\u001b[39;00m\n\u001b[0;32m----> 3\u001b[0m image_ts \u001b[38;5;241m=\u001b[39m np\u001b[38;5;241m.\u001b[39mconcatenate([\u001b[43mimage1\u001b[49m, image2, image3, image4, image5, image6, image7, image8], axis\u001b[38;5;241m=\u001b[39m\u001b[38;5;241m0\u001b[39m)\n\u001b[1;32m      4\u001b[0m plt\u001b[38;5;241m.\u001b[39mimshow(image_ts)\n\u001b[1;32m      5\u001b[0m im_ts \u001b[38;5;241m=\u001b[39m Image\u001b[38;5;241m.\u001b[39mfromarray(image_ts)\n",
      "\u001b[0;31mNameError\u001b[0m: name 'image1' is not defined"
     ]
    }
   ],
   "source": [
    "# from image1 to image8, add them on top of each other\n",
    "\n",
    "image_ts = np.concatenate([image1, image2, image3, image4, image5, image6, image7, image8], axis=0)\n",
    "plt.imshow(image_ts)\n",
    "im_ts = Image.fromarray(image_ts)\n",
    "im_ts.save('delft2_ts.png')"
   ]
  },
  {
   "cell_type": "code",
   "execution_count": 45,
   "metadata": {},
   "outputs": [],
   "source": [
    "from PIL import Image\n",
    "im = Image.fromarray(image)\n",
    "im.save('delft0.png')"
   ]
  },
  {
   "cell_type": "code",
   "execution_count": 65,
   "metadata": {},
   "outputs": [
    {
     "data": {
      "text/plain": [
       "<matplotlib.image.AxesImage at 0x7f285ce06ad0>"
      ]
     },
     "execution_count": 65,
     "metadata": {},
     "output_type": "execute_result"
    },
    {
     "data": {
      "image/png": "[encoded data removed]",
      "text/plain": [
       "<Figure size 640x480 with 1 Axes>"
      ]
     },
     "metadata": {},
     "output_type": "display_data"
    }
   ],
   "source": [
    "plt.imshow(image_enhanced)"
   ]
  },
  {
   "cell_type": "code",
   "execution_count": 67,
   "metadata": {},
   "outputs": [],
   "source": [
    "# to unit 8\n",
    "im_enhanced = Image.fromarray((image_enhanced*255).astype(np.uint8))\n",
    "im_enhanced.save('delft0_enh.png')\n"
   ]
  },
  {
   "cell_type": "code",
   "execution_count": null,
   "metadata": {},
   "outputs": [],
   "source": []
  }
 ],
 "metadata": {
  "kernelspec": {
   "display_name": "myenv",
   "language": "python",
   "name": "python3"
  },
  "language_info": {
   "codemirror_mode": {
    "name": "ipython",
    "version": 3
   },
   "file_extension": ".py",
   "mimetype": "text/x-python",
   "name": "python",
   "nbconvert_exporter": "python",
   "pygments_lexer": "ipython3",
   "version": "3.10.12"
  }
 },
 "nbformat": 4,
 "nbformat_minor": 2
}
